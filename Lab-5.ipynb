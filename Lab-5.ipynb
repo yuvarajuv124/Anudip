{
 "cells": [
  {
   "cell_type": "markdown",
   "metadata": {},
   "source": [
    "### Division of two numbers using function"
   ]
  },
  {
   "cell_type": "code",
   "execution_count": 1,
   "metadata": {},
   "outputs": [
    {
     "name": "stdout",
     "output_type": "stream",
     "text": [
      "Division of two numbers is: 5.0\n"
     ]
    }
   ],
   "source": [
    "def div(a,b):\n",
    "    result = a/b\n",
    "    return result\n",
    "print('Division of two numbers is:',div(10,2))"
   ]
  },
  {
   "cell_type": "markdown",
   "metadata": {},
   "source": [
    "### Square of a number"
   ]
  },
  {
   "cell_type": "code",
   "execution_count": 2,
   "metadata": {},
   "outputs": [
    {
     "name": "stdout",
     "output_type": "stream",
     "text": [
      "Square of number is: 324\n"
     ]
    }
   ],
   "source": [
    "def square(a):\n",
    "    result = a*a\n",
    "    return result\n",
    "print('Square of number is:',square(18))"
   ]
  },
  {
   "cell_type": "markdown",
   "metadata": {},
   "source": [
    "### max and min functions"
   ]
  },
  {
   "cell_type": "code",
   "execution_count": 3,
   "metadata": {},
   "outputs": [
    {
     "name": "stdout",
     "output_type": "stream",
     "text": [
      "Maximum of given numbers is: 12\n",
      "Minimum of given numbers is: 4\n"
     ]
    }
   ],
   "source": [
    "a,b,c,d,e = 5,7,12,4,6\n",
    "print('Maximum of given numbers is:',max(a,b,c,d,e))\n",
    "print('Minimum of given numbers is:',min(a,b,c,d,e))"
   ]
  },
  {
   "cell_type": "markdown",
   "metadata": {},
   "source": [
    "### Lower case method"
   ]
  },
  {
   "cell_type": "code",
   "execution_count": 4,
   "metadata": {},
   "outputs": [
    {
     "name": "stdout",
     "output_type": "stream",
     "text": [
      "Name in lower case: yuvaraj\n"
     ]
    }
   ],
   "source": [
    "name = input('Enter your name in capital letters: ')\n",
    "print('Name in lower case:',name.lower())"
   ]
  }
 ],
 "metadata": {
  "kernelspec": {
   "display_name": "Python 3",
   "language": "python",
   "name": "python3"
  },
  "language_info": {
   "codemirror_mode": {
    "name": "ipython",
    "version": 3
   },
   "file_extension": ".py",
   "mimetype": "text/x-python",
   "name": "python",
   "nbconvert_exporter": "python",
   "pygments_lexer": "ipython3",
   "version": "3.13.2"
  }
 },
 "nbformat": 4,
 "nbformat_minor": 2
}
