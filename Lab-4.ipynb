{
 "cells": [
  {
   "cell_type": "markdown",
   "metadata": {},
   "source": [
    "### Leap year program"
   ]
  },
  {
   "cell_type": "code",
   "execution_count": 2,
   "metadata": {},
   "outputs": [
    {
     "name": "stdout",
     "output_type": "stream",
     "text": [
      "It is not a leap year\n"
     ]
    }
   ],
   "source": [
    "year = int(input('Enter a year: '))\n",
    "if year%4==0:\n",
    "    print('It is a leap year')\n",
    "else:\n",
    "    print('It is not a leap year')"
   ]
  },
  {
   "cell_type": "markdown",
   "metadata": {},
   "source": [
    "### Largest among three numbers"
   ]
  },
  {
   "cell_type": "code",
   "execution_count": 5,
   "metadata": {},
   "outputs": [
    {
     "name": "stdout",
     "output_type": "stream",
     "text": [
      "The largest number is: 80\n"
     ]
    }
   ],
   "source": [
    "a = 50\n",
    "b = 80\n",
    "c = 30\n",
    "if a>b and a>c:\n",
    "    print('The largest number is:',a)\n",
    "elif b>c:\n",
    "    print('The largest number is:',b)\n",
    "else:\n",
    "    print('The largest number is:',c)"
   ]
  },
  {
   "cell_type": "markdown",
   "metadata": {},
   "source": [
    "### Positive or negative or zero"
   ]
  },
  {
   "cell_type": "code",
   "execution_count": 16,
   "metadata": {},
   "outputs": [
    {
     "name": "stdout",
     "output_type": "stream",
     "text": [
      "Number is positive\n"
     ]
    }
   ],
   "source": [
    "num = int(input('Enter a number: '))\n",
    "if num>0:\n",
    "    print('Number is positive')\n",
    "elif num==0:\n",
    "    print('Number is zero')\n",
    "else:\n",
    "    print('Number is negative')"
   ]
  },
  {
   "cell_type": "markdown",
   "metadata": {},
   "source": [
    "### Toy vendor program"
   ]
  },
  {
   "cell_type": "code",
   "execution_count": 13,
   "metadata": {},
   "outputs": [
    {
     "name": "stdout",
     "output_type": "stream",
     "text": [
      "The final amount is: 900.0\n"
     ]
    }
   ],
   "source": [
    "product_code_list = [1,2,3]\n",
    "''' 1 - Battery based toys\n",
    "    2 - key based toys\n",
    "    3 - Electric charging toys '''\n",
    "product_code = int(input('Enter the product code: '))\n",
    "order_amount = int(input('Enter the product amount: '))\n",
    "discount = 0\n",
    "if product_code==1:\n",
    "    if order_amount>1000:\n",
    "      discount = order_amount*0.1\n",
    "    else:\n",
    "        dicount = 0\n",
    "    final_amount = order_amount - discount\n",
    "    print('The final amount is:',final_amount)\n",
    "elif product_code==2:\n",
    "    if order_amount>100:\n",
    "        discount = order_amount*0.05\n",
    "    else:\n",
    "        dicount = 0\n",
    "    final_amount = order_amount - discount\n",
    "    print('The final amount is:',final_amount)\n",
    "elif product_code==3:\n",
    "    if order_amount>500:\n",
    "        discount = order_amount*0.1\n",
    "    else:\n",
    "        dicount = 0\n",
    "    final_amount = order_amount - discount\n",
    "    print('The final amount is:',final_amount)\n",
    "else:\n",
    "    print('Enter valid product code')\n",
    "\n"
   ]
  },
  {
   "cell_type": "markdown",
   "metadata": {},
   "source": [
    "### Amont calculator based on Km"
   ]
  },
  {
   "cell_type": "code",
   "execution_count": 19,
   "metadata": {},
   "outputs": [
    {
     "name": "stdout",
     "output_type": "stream",
     "text": [
      "Total fare is: Rs. 1440\n"
     ]
    }
   ],
   "source": [
    "distance = int(input('Enter the distance in kms: '))\n",
    "if distance<=50:\n",
    "    print('Total fare is: Rs.',distance*8)\n",
    "elif distance<=100:\n",
    "    print('Total fare is: Rs.',distance*10)\n",
    "else:\n",
    "    print('Total fare is: Rs.',distance*12)\n",
    "\n"
   ]
  }
 ],
 "metadata": {
  "kernelspec": {
   "display_name": "Python 3",
   "language": "python",
   "name": "python3"
  },
  "language_info": {
   "codemirror_mode": {
    "name": "ipython",
    "version": 3
   },
   "file_extension": ".py",
   "mimetype": "text/x-python",
   "name": "python",
   "nbconvert_exporter": "python",
   "pygments_lexer": "ipython3",
   "version": "3.13.2"
  }
 },
 "nbformat": 4,
 "nbformat_minor": 2
}
