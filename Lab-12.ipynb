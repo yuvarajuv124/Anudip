{
 "cells": [
  {
   "cell_type": "markdown",
   "metadata": {},
   "source": [
    "### Sum of elements in list"
   ]
  },
  {
   "cell_type": "code",
   "execution_count": 1,
   "metadata": {},
   "outputs": [
    {
     "name": "stdout",
     "output_type": "stream",
     "text": [
      "14\n"
     ]
    }
   ],
   "source": [
    "list1 = [2,3,4,5]\n",
    "result_sum = 0\n",
    "for i in list1:\n",
    "    result_sum += i\n",
    "print(result_sum)"
   ]
  },
  {
   "cell_type": "markdown",
   "metadata": {},
   "source": [
    "### Largest and smallest numbers of a list"
   ]
  },
  {
   "cell_type": "code",
   "execution_count": 4,
   "metadata": {},
   "outputs": [
    {
     "name": "stdout",
     "output_type": "stream",
     "text": [
      "10\n",
      "1\n"
     ]
    }
   ],
   "source": [
    "list1=[2,3,10,1,5]\n",
    "largest = list1[0]\n",
    "smallest = list1[0]\n",
    "for i in list1:\n",
    "    if i>largest:\n",
    "        largest = i\n",
    "    if i<smallest:\n",
    "        smallest = i\n",
    "print(largest)\n",
    "print(smallest)"
   ]
  },
  {
   "cell_type": "markdown",
   "metadata": {},
   "source": [
    "### find duplicate items in list"
   ]
  },
  {
   "cell_type": "code",
   "execution_count": 8,
   "metadata": {},
   "outputs": [
    {
     "name": "stdout",
     "output_type": "stream",
     "text": [
      "[2, 3]\n"
     ]
    }
   ],
   "source": [
    "list1 = [1,2,3,2,5,4,3]\n",
    "dup_list = []\n",
    "unique_list = []\n",
    "for i in list1:\n",
    "    if i in unique_list and i not in dup_list:\n",
    "        dup_list.append(i)\n",
    "    else:\n",
    "        unique_list.append(i)\n",
    "print(dup_list)"
   ]
  },
  {
   "cell_type": "markdown",
   "metadata": {},
   "source": [
    "### Split list in to two parts"
   ]
  },
  {
   "cell_type": "code",
   "execution_count": 10,
   "metadata": {},
   "outputs": [
    {
     "name": "stdout",
     "output_type": "stream",
     "text": [
      "[1, 1, 2]\n",
      "[3, 4, 4, 5, 1]\n"
     ]
    }
   ],
   "source": [
    "list1=[1,1,2,3,4,4,5,1]\n",
    "print(list1[:3])\n",
    "print(list1[3:])\n"
   ]
  },
  {
   "cell_type": "markdown",
   "metadata": {},
   "source": [
    "### traverse list in reverse order"
   ]
  },
  {
   "cell_type": "code",
   "execution_count": 15,
   "metadata": {},
   "outputs": [
    {
     "name": "stdout",
     "output_type": "stream",
     "text": [
      "[1, 5, 4, 4, 3, 2, 1, 1]\n",
      "1\n",
      "5\n",
      "4\n",
      "4\n",
      "3\n",
      "2\n",
      "1\n",
      "1\n"
     ]
    }
   ],
   "source": [
    "list1=[1,1,2,3,4,4,5,1]\n",
    "print(list1[::-1])\n",
    "for i in range(len(list1)-1,-1,-1):\n",
    "    print(list1[i])"
   ]
  }
 ],
 "metadata": {
  "kernelspec": {
   "display_name": "Python 3",
   "language": "python",
   "name": "python3"
  },
  "language_info": {
   "codemirror_mode": {
    "name": "ipython",
    "version": 3
   },
   "file_extension": ".py",
   "mimetype": "text/x-python",
   "name": "python",
   "nbconvert_exporter": "python",
   "pygments_lexer": "ipython3",
   "version": "3.13.2"
  }
 },
 "nbformat": 4,
 "nbformat_minor": 2
}
