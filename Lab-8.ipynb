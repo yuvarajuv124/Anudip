{
 "cells": [
  {
   "cell_type": "markdown",
   "metadata": {},
   "source": [
    "### occurence of each word in sentence"
   ]
  },
  {
   "cell_type": "code",
   "execution_count": 22,
   "metadata": {},
   "outputs": [
    {
     "name": "stdout",
     "output_type": "stream",
     "text": [
      "['To', 'challenge', 'the', 'overall', 'look', 'of', 'your', 'documnet.', 'change', 'available', 'in', 'gallery']\n",
      "count of To is: 2\n",
      "count of challenge is: 1\n",
      "count of the is: 3\n",
      "count of overall is: 1\n",
      "count of look is: 2\n",
      "count of of is: 1\n",
      "count of your is: 1\n",
      "count of documnet. is: 1\n",
      "count of change is: 1\n",
      "count of available is: 1\n",
      "count of in is: 1\n",
      "count of gallery is: 1\n"
     ]
    }
   ],
   "source": [
    "string = \"To challenge the overall look of your documnet. To change the look available in the gallery\"\n",
    "list1 = string.split()\n",
    "list2 = []\n",
    "for i in list1:\n",
    "    if i not in list2:\n",
    "        list2.append(i)\n",
    "print(list2)\n",
    "for j in list2:\n",
    "    count = 0\n",
    "    for k in list1:\n",
    "        if k==j:\n",
    "            count += 1\n",
    "    print(\"count of\",j,\"is:\",count)\n"
   ]
  },
  {
   "cell_type": "markdown",
   "metadata": {},
   "source": [
    "### To remove new line in python"
   ]
  },
  {
   "cell_type": "code",
   "execution_count": 23,
   "metadata": {},
   "outputs": [
    {
     "name": "stdout",
     "output_type": "stream",
     "text": [
      "Best Deeptech Python Training\n"
     ]
    }
   ],
   "source": [
    "string = \"\\nBest \\nDeeptech \\nPython \\nTraining\\n\"\n",
    "new_string  = string.replace(\"\\n\",\"\")\n",
    "print(new_string)"
   ]
  },
  {
   "cell_type": "markdown",
   "metadata": {},
   "source": [
    "### Reverse words in a string"
   ]
  },
  {
   "cell_type": "code",
   "execution_count": 24,
   "metadata": {},
   "outputs": [
    {
     "name": "stdout",
     "output_type": "stream",
     "text": [
      "training python Deeptech\n"
     ]
    }
   ],
   "source": [
    "string = \"Deeptech python training\"\n",
    "list1 = string.split()[::-1]\n",
    "reverse_string = ' '.join(list1)\n",
    "print(reverse_string)"
   ]
  },
  {
   "cell_type": "markdown",
   "metadata": {},
   "source": [
    "### count no of vowels"
   ]
  },
  {
   "cell_type": "code",
   "execution_count": 26,
   "metadata": {},
   "outputs": [
    {
     "name": "stdout",
     "output_type": "stream",
     "text": [
      "count of a is: 1\n",
      "count of e is: 2\n",
      "count of i is: 2\n",
      "count of o is: 3\n",
      "count of u is: 0\n"
     ]
    }
   ],
   "source": [
    "string = \"Welcome to python training\"\n",
    "vowels = ['a','e','i','o','u']\n",
    "for i in vowels:\n",
    "    string.lower()\n",
    "    count = 0\n",
    "    for j in string:\n",
    "        if j==i:\n",
    "            count += 1\n",
    "    print(\"count of\",i,\"is:\",count)"
   ]
  }
 ],
 "metadata": {
  "language_info": {
   "name": "python"
  }
 },
 "nbformat": 4,
 "nbformat_minor": 2
}
