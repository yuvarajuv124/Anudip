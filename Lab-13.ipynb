{
 "cells": [
  {
   "cell_type": "markdown",
   "metadata": {},
   "source": [
    "### Count the number of appearances"
   ]
  },
  {
   "cell_type": "code",
   "execution_count": 4,
   "metadata": {},
   "outputs": [
    {
     "name": "stdout",
     "output_type": "stream",
     "text": [
      "count of 4 is: 3\n"
     ]
    }
   ],
   "source": [
    "tuplex = (2,4,5,6,2,3,4,4,7)\n",
    "print('count of 4 is:',tuplex.count(4))"
   ]
  },
  {
   "cell_type": "markdown",
   "metadata": {},
   "source": [
    "### Convert list to tuple"
   ]
  },
  {
   "cell_type": "code",
   "execution_count": 5,
   "metadata": {},
   "outputs": [
    {
     "name": "stdout",
     "output_type": "stream",
     "text": [
      "(5, 10, 7, 4, 15, 3)\n"
     ]
    }
   ],
   "source": [
    "listx = [5,10,7,4,15,3]\n",
    "tuplex = tuple(listx)\n",
    "print(tuplex)"
   ]
  },
  {
   "cell_type": "markdown",
   "metadata": {},
   "source": [
    "### sum of numbers in tuple"
   ]
  },
  {
   "cell_type": "code",
   "execution_count": 17,
   "metadata": {},
   "outputs": [
    {
     "name": "stdout",
     "output_type": "stream",
     "text": [
      "21\n"
     ]
    }
   ],
   "source": [
    "tuples_list = [(1, 2), (3, 4), (5, 6)]\n",
    "total_sum = 0\n",
    "for n in tuples_list:\n",
    "    total_sum += sum(n)\n",
    "print(total_sum)\n"
   ]
  },
  {
   "cell_type": "markdown",
   "metadata": {},
   "source": [
    "### iterate and print values in tuple"
   ]
  },
  {
   "cell_type": "code",
   "execution_count": 19,
   "metadata": {},
   "outputs": [
    {
     "name": "stdout",
     "output_type": "stream",
     "text": [
      "name: Jhon Doe ,emp_id: 101 ,Department: Human resources ,salary: 60000\n",
      "name: Alice Smith ,emp_id: 102 ,Department: Marketing ,salary: 55000\n",
      "name: Bob Jhonson ,emp_id: 103 ,Department: Engineering ,salary: 75000\n"
     ]
    }
   ],
   "source": [
    "employee1 = (\"Jhon Doe\",101,\"Human resources\",60000)\n",
    "employee2 = (\"Alice Smith\",102,\"Marketing\",55000)\n",
    "employee3 = (\"Bob Jhonson\",103,\"Engineering\",75000)\n",
    "list1 = [employee1,employee2,employee3]\n",
    "for emp in list1:\n",
    "    name,id,dept,sal = emp\n",
    "    print(\"name:\",name,\",emp_id:\",id,\",Department:\",dept,\",salary:\",sal)"
   ]
  }
 ],
 "metadata": {
  "kernelspec": {
   "display_name": "Python 3",
   "language": "python",
   "name": "python3"
  },
  "language_info": {
   "codemirror_mode": {
    "name": "ipython",
    "version": 3
   },
   "file_extension": ".py",
   "mimetype": "text/x-python",
   "name": "python",
   "nbconvert_exporter": "python",
   "pygments_lexer": "ipython3",
   "version": "3.13.2"
  }
 },
 "nbformat": 4,
 "nbformat_minor": 2
}
