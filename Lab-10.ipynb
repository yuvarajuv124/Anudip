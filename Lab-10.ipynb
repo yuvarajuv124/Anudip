{
 "cells": [
  {
   "cell_type": "markdown",
   "metadata": {},
   "source": [
    "### Open a file and read the content"
   ]
  },
  {
   "cell_type": "code",
   "execution_count": 1,
   "metadata": {},
   "outputs": [
    {
     "name": "stdout",
     "output_type": "stream",
     "text": [
      "Hello Yuvaraj, Welcome to Data Analytics "
     ]
    }
   ],
   "source": [
    "with open(\"dummy.txt\",'r') as file:\n",
    "    for line in file:\n",
    "        print(line,end=\" \")"
   ]
  },
  {
   "cell_type": "markdown",
   "metadata": {},
   "source": [
    "### Open a file and count the words"
   ]
  },
  {
   "cell_type": "code",
   "execution_count": 2,
   "metadata": {},
   "outputs": [
    {
     "name": "stdout",
     "output_type": "stream",
     "text": [
      "Number of words in file: 6\n"
     ]
    }
   ],
   "source": [
    "with open(\"dummy.txt\",'r') as file:\n",
    "    data = file.read()\n",
    "    words = data.split()\n",
    "    print(\"Number of words in file:\",len(words))"
   ]
  },
  {
   "cell_type": "markdown",
   "metadata": {},
   "source": [
    "### Count the number of uppercase letters"
   ]
  },
  {
   "cell_type": "code",
   "execution_count": 3,
   "metadata": {},
   "outputs": [
    {
     "name": "stdout",
     "output_type": "stream",
     "text": [
      "uppercase letter in file: 5\n"
     ]
    }
   ],
   "source": [
    "uppercase_count = 0\n",
    "with open(\"dummy.txt\",'r') as file:\n",
    "    data = file.read()\n",
    "    for i in data:\n",
    "        if i.isupper():\n",
    "            uppercase_count += 1\n",
    "    print(\"uppercase letter in file:\",uppercase_count)"
   ]
  },
  {
   "cell_type": "markdown",
   "metadata": {},
   "source": [
    "### print the words whose length is less than 4"
   ]
  },
  {
   "cell_type": "code",
   "execution_count": 7,
   "metadata": {},
   "outputs": [
    {
     "name": "stdout",
     "output_type": "stream",
     "text": [
      "to\n",
      "Data\n"
     ]
    }
   ],
   "source": [
    "with open(\"dummy.txt\",'r') as file:\n",
    "    data = file.read()\n",
    "    words = data.split()\n",
    "    for i in words:\n",
    "        if len(i)<=4:\n",
    "            print(i)"
   ]
  }
 ],
 "metadata": {
  "kernelspec": {
   "display_name": "Python 3",
   "language": "python",
   "name": "python3"
  },
  "language_info": {
   "codemirror_mode": {
    "name": "ipython",
    "version": 3
   },
   "file_extension": ".py",
   "mimetype": "text/x-python",
   "name": "python",
   "nbconvert_exporter": "python",
   "pygments_lexer": "ipython3",
   "version": "3.13.2"
  }
 },
 "nbformat": 4,
 "nbformat_minor": 2
}
