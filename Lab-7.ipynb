{
 "cells": [
  {
   "cell_type": "markdown",
   "metadata": {},
   "source": [
    "### For loop to print first 10 numbers"
   ]
  },
  {
   "cell_type": "code",
   "execution_count": 4,
   "metadata": {},
   "outputs": [
    {
     "name": "stdout",
     "output_type": "stream",
     "text": [
      "1 2 3 4 5 6 7 8 9 10 "
     ]
    }
   ],
   "source": [
    "for i in range(1,11):\n",
    "    print(i,end=\" \")"
   ]
  },
  {
   "cell_type": "markdown",
   "metadata": {},
   "source": [
    "### String palindrome"
   ]
  },
  {
   "cell_type": "code",
   "execution_count": 8,
   "metadata": {},
   "outputs": [
    {
     "name": "stdout",
     "output_type": "stream",
     "text": [
      "It is a palindrome\n"
     ]
    }
   ],
   "source": [
    "name = input('Enter a string: ')\n",
    "rev_name = name[::-1]\n",
    "if name==rev_name:\n",
    "    print('It is a palindrome')\n",
    "else:\n",
    "    print('Not a palindrome')"
   ]
  },
  {
   "cell_type": "markdown",
   "metadata": {},
   "source": [
    "### Armstrong number"
   ]
  },
  {
   "cell_type": "code",
   "execution_count": 12,
   "metadata": {},
   "outputs": [
    {
     "name": "stdout",
     "output_type": "stream",
     "text": [
      "It is an armstrong number\n"
     ]
    }
   ],
   "source": [
    "num = 153\n",
    "temp = num\n",
    "digit,sum = 0,0\n",
    "# counts no of digits\n",
    "while num>0:\n",
    "    rem = num%10\n",
    "    digit += 1\n",
    "    num = num//10\n",
    "# Reinitializing to its original value\n",
    "num = temp\n",
    "# finding sum of power of its digits\n",
    "while num>0:\n",
    "    rem = num%10\n",
    "    sum += rem**digit\n",
    "    num = num//10\n",
    "if temp==sum:\n",
    "    print('It is an armstrong number')\n",
    "else:\n",
    "    print('Not an armstrong number')\n"
   ]
  },
  {
   "cell_type": "markdown",
   "metadata": {},
   "source": [
    "### Fibonacci series"
   ]
  },
  {
   "cell_type": "code",
   "execution_count": 25,
   "metadata": {},
   "outputs": [
    {
     "name": "stdout",
     "output_type": "stream",
     "text": [
      "0 1 1 2 3 5 8 13 21 34 "
     ]
    }
   ],
   "source": [
    "range = int(input('Enter the range: '))\n",
    "num1,num2 = 0,1\n",
    "while num1<=range:\n",
    "    num3 = num1 +num2\n",
    "    print(num1,end=\" \")\n",
    "    num1,num2 = num2,num3\n"
   ]
  },
  {
   "cell_type": "markdown",
   "metadata": {},
   "source": [
    "### Password checker"
   ]
  },
  {
   "cell_type": "code",
   "execution_count": null,
   "metadata": {},
   "outputs": [
    {
     "name": "stdout",
     "output_type": "stream",
     "text": [
      "Password is weak\n"
     ]
    }
   ],
   "source": [
    "def password_check(password):\n",
    "    is_Upper = False\n",
    "    is_Lower = False\n",
    "    is_Digit = False\n",
    "    is_Special_character = False\n",
    "    for s in password:\n",
    "        if s.isupper():\n",
    "            is_Upper = True\n",
    "        elif s.islower():\n",
    "            is_Lower = True\n",
    "        elif s.isdigit():\n",
    "            is_Digit = True\n",
    "        elif s in special_characters:\n",
    "            is_Special_character = True\n",
    "    if is_Upper and is_Lower and is_Digit and is_Special_character:\n",
    "          print('password is strong')\n",
    "    else:\n",
    "            print('Password is weak')\n",
    "special_characters = '~!@#$%^&*`<>?'\n",
    "password_check('Abc@123')"
   ]
  }
 ],
 "metadata": {
  "kernelspec": {
   "display_name": "Python 3",
   "language": "python",
   "name": "python3"
  },
  "language_info": {
   "codemirror_mode": {
    "name": "ipython",
    "version": 3
   },
   "file_extension": ".py",
   "mimetype": "text/x-python",
   "name": "python",
   "nbconvert_exporter": "python",
   "pygments_lexer": "ipython3",
   "version": "3.13.2"
  }
 },
 "nbformat": 4,
 "nbformat_minor": 2
}
