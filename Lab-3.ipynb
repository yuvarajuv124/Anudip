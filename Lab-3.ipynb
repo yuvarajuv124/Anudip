{
 "cells": [
  {
   "cell_type": "markdown",
   "metadata": {},
   "source": [
    "### Ternary operator to find even or odd"
   ]
  },
  {
   "cell_type": "code",
   "execution_count": 1,
   "metadata": {},
   "outputs": [
    {
     "name": "stdout",
     "output_type": "stream",
     "text": [
      "the number is: odd\n"
     ]
    }
   ],
   "source": [
    "num = int(input('Enter a number: '))\n",
    "result = \"even\" if num%2==0 else \"odd\"\n",
    "print(\"the number is:\",result)"
   ]
  },
  {
   "cell_type": "markdown",
   "metadata": {},
   "source": [
    "### swap two numbers"
   ]
  },
  {
   "cell_type": "code",
   "execution_count": 2,
   "metadata": {},
   "outputs": [
    {
     "name": "stdout",
     "output_type": "stream",
     "text": [
      "Numbers before swapping: 10 , 20\n",
      "Numbers after swapping: 20 , 10\n"
     ]
    }
   ],
   "source": [
    "num1 = int(input('Enter first number: '))\n",
    "num2 = int(input('Enter second number: '))\n",
    "print('Numbers before swapping:',num1,\",\",num2)\n",
    "num1 = num1+num2\n",
    "num2 = num1-num2\n",
    "num1 = num1-num2\n",
    "print('Numbers after swapping:',num1,\",\",num2)"
   ]
  },
  {
   "cell_type": "markdown",
   "metadata": {},
   "source": [
    "### Convertion of kilo metre to mile"
   ]
  },
  {
   "cell_type": "code",
   "execution_count": 4,
   "metadata": {},
   "outputs": [
    {
     "name": "stdout",
     "output_type": "stream",
     "text": [
      "Distance in miles is: 62.5\n"
     ]
    }
   ],
   "source": [
    "distance_km = 100\n",
    "distance_mile = distance_km/1.6\n",
    "print('Distance in miles is:',distance_mile)"
   ]
  },
  {
   "cell_type": "markdown",
   "metadata": {},
   "source": [
    "### Calculate simple interest"
   ]
  },
  {
   "cell_type": "code",
   "execution_count": 5,
   "metadata": {},
   "outputs": [
    {
     "name": "stdout",
     "output_type": "stream",
     "text": [
      "Simple interest is: 50.0\n"
     ]
    }
   ],
   "source": [
    "amount = 200\n",
    "interest_rate = 5\n",
    "time_in_years = 5\n",
    "SI = (amount*interest_rate*time_in_years)/100\n",
    "print('Simple interest is:',SI)"
   ]
  }
 ],
 "metadata": {
  "kernelspec": {
   "display_name": "Python 3",
   "language": "python",
   "name": "python3"
  },
  "language_info": {
   "codemirror_mode": {
    "name": "ipython",
    "version": 3
   },
   "file_extension": ".py",
   "mimetype": "text/x-python",
   "name": "python",
   "nbconvert_exporter": "python",
   "pygments_lexer": "ipython3",
   "version": "3.13.2"
  }
 },
 "nbformat": 4,
 "nbformat_minor": 2
}
