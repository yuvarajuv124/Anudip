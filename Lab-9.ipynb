{
 "cells": [
  {
   "cell_type": "markdown",
   "metadata": {},
   "source": [
    "### Count letters digits and special characters"
   ]
  },
  {
   "cell_type": "code",
   "execution_count": 2,
   "metadata": {},
   "outputs": [
    {
     "name": "stdout",
     "output_type": "stream",
     "text": [
      "chars: 8\n",
      "Digits: 3\n",
      "Symbol: 4\n"
     ]
    }
   ],
   "source": [
    "string = 'P@#yn26at^&i5ve'\n",
    "chars = 0\n",
    "digits = 0\n",
    "symbol = 0\n",
    "for s in string:\n",
    "    if s.isalpha():\n",
    "        chars +=1\n",
    "    elif s.isdigit():\n",
    "        digits += 1\n",
    "    else:\n",
    "        symbol += 1\n",
    "print(\"chars:\",chars)\n",
    "print(\"Digits:\",digits)\n",
    "print(\"Symbol:\",symbol)"
   ]
  },
  {
   "cell_type": "markdown",
   "metadata": {},
   "source": [
    "### Remove duplicate characters in a string"
   ]
  },
  {
   "cell_type": "code",
   "execution_count": 5,
   "metadata": {},
   "outputs": [
    {
     "name": "stdout",
     "output_type": "stream",
     "text": [
      "String and function\n"
     ]
    }
   ],
   "source": [
    "string = \"String and String function\"\n",
    "list1 = string.split()\n",
    "list2 = []\n",
    "for i in list1:\n",
    "    if i not in list2:\n",
    "        list2.append(i)\n",
    "result_string = ' '.join(list2)\n",
    "print(result_string)\n"
   ]
  },
  {
   "cell_type": "markdown",
   "metadata": {},
   "source": [
    "### count upper lower number and special symbol"
   ]
  },
  {
   "cell_type": "code",
   "execution_count": 7,
   "metadata": {},
   "outputs": [
    {
     "name": "stdout",
     "output_type": "stream",
     "text": [
      "Upper Case: 7\n",
      "Lower Case: 18\n",
      "Number Case: 3\n",
      "Special Case: 9\n"
     ]
    }
   ],
   "source": [
    "string = \"HellO WOrld ! 123*# welcome to pYtHoN\"\n",
    "upperCase = 0\n",
    "lowerCase = 0\n",
    "specialCase = 0\n",
    "numberCase = 0\n",
    "for s in string:\n",
    "    if s.isupper():\n",
    "        upperCase += 1\n",
    "    elif s.islower():\n",
    "        lowerCase += 1\n",
    "    elif s.isdigit():\n",
    "        numberCase += 1\n",
    "    else:\n",
    "        specialCase += 1\n",
    "print(\"Upper Case:\",upperCase)\n",
    "print(\"Lower Case:\",lowerCase)\n",
    "print(\"Number Case:\",numberCase)\n",
    "print(\"Special Case:\",specialCase)"
   ]
  },
  {
   "cell_type": "markdown",
   "metadata": {},
   "source": [
    "### count no of vowels"
   ]
  },
  {
   "cell_type": "code",
   "execution_count": 8,
   "metadata": {},
   "outputs": [
    {
     "name": "stdout",
     "output_type": "stream",
     "text": [
      "7\n"
     ]
    }
   ],
   "source": [
    "string = \"Welcome to Python Assignment\"\n",
    "vowels = ['a','e','i','o','u']\n",
    "vowel_count = 0\n",
    "for i in vowels:\n",
    "    string.lower()\n",
    "    for j in string:\n",
    "        if i==j:\n",
    "            vowel_count += 1\n",
    "print(vowel_count)\n"
   ]
  }
 ],
 "metadata": {
  "kernelspec": {
   "display_name": "Python 3",
   "language": "python",
   "name": "python3"
  },
  "language_info": {
   "codemirror_mode": {
    "name": "ipython",
    "version": 3
   },
   "file_extension": ".py",
   "mimetype": "text/x-python",
   "name": "python",
   "nbconvert_exporter": "python",
   "pygments_lexer": "ipython3",
   "version": "3.13.2"
  }
 },
 "nbformat": 4,
 "nbformat_minor": 2
}
